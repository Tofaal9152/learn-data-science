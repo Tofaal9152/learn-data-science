{
 "cells": [
  {
   "cell_type": "markdown",
   "id": "fb1a9b01-3e30-431f-bc2a-757d5bf25113",
   "metadata": {},
   "source": [
    "# Welcome "
   ]
  },
  {
   "cell_type": "code",
   "execution_count": 4,
   "id": "b12b48b8-c351-4a46-9773-b1c6b36a2d94",
   "metadata": {},
   "outputs": [
    {
     "name": "stdout",
     "output_type": "stream",
     "text": [
      "Hello worldaaa\n"
     ]
    }
   ],
   "source": [
    "print(\"Hello worldaaa\")"
   ]
  }
 ],
 "metadata": {
  "kernelspec": {
   "display_name": "Python 3 (ipykernel)",
   "language": "python",
   "name": "python3"
  },
  "language_info": {
   "codemirror_mode": {
    "name": "ipython",
    "version": 3
   },
   "file_extension": ".py",
   "mimetype": "text/x-python",
   "name": "python",
   "nbconvert_exporter": "python",
   "pygments_lexer": "ipython3",
   "version": "3.13.3"
  }
 },
 "nbformat": 4,
 "nbformat_minor": 5
}
